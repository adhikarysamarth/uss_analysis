{
 "cells": [
  {
   "cell_type": "code",
   "execution_count": 250,
   "metadata": {},
   "outputs": [],
   "source": [
    "# Load Libraries\n",
    "import pandas as pd\n",
    "import numpy as np\n",
    "import re\n",
    "import datetime"
   ]
  },
  {
   "cell_type": "code",
   "execution_count": 251,
   "metadata": {},
   "outputs": [],
   "source": [
    "# Load excel file into pandas dataframe\n",
    "df = pd.read_excel(\"PackageWiseAdmission.xlsx\", index_col=None)\n",
    "df.dropna(subset=['Course Package'], inplace=True)\n",
    "df = df[(df['Lead Stage'] != 'Dropped Out') & (df['Admission Status'] != 'Dropped Out')]"
   ]
  },
  {
   "cell_type": "code",
   "execution_count": 252,
   "metadata": {},
   "outputs": [
    {
     "name": "stdout",
     "output_type": "stream",
     "text": [
      "Column names:\n",
      " Index(['Course Package', 'Academic Year', 'Inquiry Date', 'Admission Batch',\n",
      "       'Training Program Funding Source', 'Start Date', 'Expected End Date',\n",
      "       'Invoice #', 'Admission Date', 'Student Name', 'Lead Source',\n",
      "       'Counsellor', 'Counselor email', 'Admission Status', 'State',\n",
      "       'Status Date', 'Lead Stage', 'Package Amount', 'Comments',\n",
      "       'Placement Salary Range', 'Placement Job Title',\n",
      "       'Placement Information', 'Placement Employer', 'Placement Remark'],\n",
      "      dtype='object') \n",
      "\n",
      "Data Types:\n",
      " Course Package                      object\n",
      "Academic Year                        int64\n",
      "Inquiry Date                        object\n",
      "Admission Batch                     object\n",
      "Training Program Funding Source     object\n",
      "Start Date                          object\n",
      "Expected End Date                   object\n",
      "Invoice #                           object\n",
      "Admission Date                      object\n",
      "Student Name                        object\n",
      "Lead Source                         object\n",
      "Counsellor                          object\n",
      "Counselor email                     object\n",
      "Admission Status                    object\n",
      "State                               object\n",
      "Status Date                         object\n",
      "Lead Stage                          object\n",
      "Package Amount                     float64\n",
      "Comments                            object\n",
      "Placement Salary Range              object\n",
      "Placement Job Title                 object\n",
      "Placement Information               object\n",
      "Placement Employer                  object\n",
      "Placement Remark                    object\n",
      "dtype: object \n",
      "\n",
      "DataFrame Shape:  (242, 24) \n",
      "\n",
      "Null Values: \n",
      " Course Package                       0\n",
      "Academic Year                        0\n",
      "Inquiry Date                         0\n",
      "Admission Batch                      1\n",
      "Training Program Funding Source      5\n",
      "Start Date                           0\n",
      "Expected End Date                    0\n",
      "Invoice #                            0\n",
      "Admission Date                       0\n",
      "Student Name                         0\n",
      "Lead Source                          0\n",
      "Counsellor                           0\n",
      "Counselor email                     81\n",
      "Admission Status                     0\n",
      "State                                0\n",
      "Status Date                          0\n",
      "Lead Stage                           0\n",
      "Package Amount                       8\n",
      "Comments                           187\n",
      "Placement Salary Range             204\n",
      "Placement Job Title                160\n",
      "Placement Information               87\n",
      "Placement Employer                 154\n",
      "Placement Remark                   107\n",
      "dtype: int64\n"
     ]
    }
   ],
   "source": [
    "# Inspect Dataframe\n",
    "df.columns\n",
    "df.dtypes\n",
    "df.shape\n",
    "df.isnull().sum())"
   ]
  },
  {
   "cell_type": "code",
   "execution_count": 253,
   "metadata": {},
   "outputs": [
    {
     "data": {
      "text/plain": [
       "0                                    OLD Student\n",
       "1           Data Science with Mobile Development\n",
       "2          Java Development with Cloud Computing\n",
       "3                            Big Data and Python\n",
       "4                                    Old Student\n",
       "5         Web development with digital marketing\n",
       "6    Software QA Automation with Cloud Computing\n",
       "7              Data Science with Web Development\n",
       "8                    Cloud Computing with C#.NET\n",
       "9                    Python with Cloud Computing\n",
       "Name: Course Package, dtype: object"
      ]
     },
     "execution_count": 253,
     "metadata": {},
     "output_type": "execute_result"
    }
   ],
   "source": [
    "df[\"Course Package\"] = df[\"Course Package\"].apply(lambda x: x.split('_', 1)[1] if '_' in str(x) else x)\n",
    "df[\"Course Package\"] = df[\"Course Package\"].apply(lambda x: x.split('_Pack')[0] if '_Package' in str(x) else x)\n",
    "df[\"Course Package\"] = df[\"Course Package\"].apply(lambda x: x.split('_', 1)[1] if '_' in str(x) else x)\n",
    "df[\"Lead Source\"] = df[\"Lead Source\"].apply(lambda x: x.split('_')[1] if '_' in str(x) else x)"
   ]
  },
  {
   "cell_type": "code",
   "execution_count": 254,
   "metadata": {},
   "outputs": [
    {
     "data": {
      "text/plain": [
       "0     2019-01-14\n",
       "1     2019-01-28\n",
       "2     2019-01-28\n",
       "3     2019-01-28\n",
       "4     2019-02-11\n",
       "         ...    \n",
       "263   2023-05-15\n",
       "264   2023-05-15\n",
       "265   2023-05-15\n",
       "266   2023-05-30\n",
       "267   2023-05-22\n",
       "Name: Start Date, Length: 242, dtype: datetime64[ns]"
      ]
     },
     "execution_count": 254,
     "metadata": {},
     "output_type": "execute_result"
    }
   ],
   "source": [
    "date_columns = ['Inquiry Date','Start Date','Expected End Date']\n",
    "df[date_columns] = df[date_columns].apply(pd.to_datetime)"
   ]
  },
  {
   "cell_type": "code",
   "execution_count": 255,
   "metadata": {},
   "outputs": [],
   "source": [
    "df[\"Placement Information\"].isnull().sum()\n",
    "df['Placement Information'] = df['Placement Information'].apply(lambda x: 1 if x == 'Yes' else 0)"
   ]
  },
  {
   "cell_type": "code",
   "execution_count": 256,
   "metadata": {},
   "outputs": [],
   "source": [
    "end_2019 = pd.Timestamp(datetime.date(2019, 6, 30))\n",
    "end_2020 = pd.Timestamp(datetime.date(2020, 6, 30))\n",
    "end_2021 = pd.Timestamp(datetime.date(2021, 6, 30))\n",
    "end_2022 = pd.Timestamp(datetime.date(2022, 6, 30))\n",
    "end_2023 = pd.Timestamp(datetime.date(2023, 5, 30))"
   ]
  },
  {
   "cell_type": "code",
   "execution_count": 257,
   "metadata": {},
   "outputs": [],
   "source": [
    "def performance_year(date):\n",
    "    if date <= end_2019:\n",
    "        return '2018'\n",
    "    elif date <= end_2020:\n",
    "        return '2019'\n",
    "    elif date <= end_2021:\n",
    "        return '2020'\n",
    "    elif date <= end_2022:\n",
    "        return '2021'\n",
    "    elif date <= end_2023:\n",
    "        return '2022'\n",
    "    else:\n",
    "        return '2023'"
   ]
  },
  {
   "cell_type": "code",
   "execution_count": 260,
   "metadata": {},
   "outputs": [],
   "source": [
    "df['Performance Year'] = df['Start Date'].apply(performance_year)"
   ]
  },
  {
   "cell_type": "code",
   "execution_count": 259,
   "metadata": {},
   "outputs": [],
   "source": [
    "df.to_excel('Current Year Performance.xlsx', index=False)"
   ]
  }
 ],
 "metadata": {
  "kernelspec": {
   "display_name": "base",
   "language": "python",
   "name": "python3"
  },
  "language_info": {
   "codemirror_mode": {
    "name": "ipython",
    "version": 3
   },
   "file_extension": ".py",
   "mimetype": "text/x-python",
   "name": "python",
   "nbconvert_exporter": "python",
   "pygments_lexer": "ipython3",
   "version": "3.9.13"
  },
  "orig_nbformat": 4
 },
 "nbformat": 4,
 "nbformat_minor": 2
}
