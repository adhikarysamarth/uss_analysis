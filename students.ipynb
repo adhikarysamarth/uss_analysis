{
 "cells": [
  {
   "cell_type": "code",
   "execution_count": 24,
   "metadata": {},
   "outputs": [],
   "source": [
    "# Load Libraries\n",
    "import pandas as pd\n",
    "import numpy as np\n",
    "import re\n",
    "import datetime"
   ]
  },
  {
   "cell_type": "code",
   "execution_count": 25,
   "metadata": {},
   "outputs": [],
   "source": [
    "# Load excel file into pandas dataframe\n",
    "df = pd.read_excel(\"PackageWiseAdmission.xlsx\", index_col=None)\n",
    "df.dropna(subset=['Course Package'], inplace=True)\n",
    "df = df[(df['Lead Stage'] != 'Dropped Out') & (df['Admission Status'] != 'Dropped Out')]"
   ]
  },
  {
   "cell_type": "code",
   "execution_count": 26,
   "metadata": {},
   "outputs": [
    {
     "data": {
      "text/plain": [
       "Course Package                       0\n",
       "Academic Year                        0\n",
       "Inquiry Date                         0\n",
       "Admission Batch                      1\n",
       "Training Program Funding Source      5\n",
       "Start Date                           0\n",
       "Expected End Date                    0\n",
       "Invoice #                            0\n",
       "Admission Date                       0\n",
       "Student Name                         0\n",
       "Lead Source                          0\n",
       "Counsellor                           0\n",
       "Counselor email                     81\n",
       "Admission Status                     0\n",
       "State                                0\n",
       "Status Date                          0\n",
       "Lead Stage                           0\n",
       "Package Amount                       8\n",
       "Comments                           187\n",
       "Placement Salary Range             204\n",
       "Placement Job Title                160\n",
       "Placement Information               87\n",
       "Placement Employer                 154\n",
       "Placement Remark                   107\n",
       "dtype: int64"
      ]
     },
     "execution_count": 26,
     "metadata": {},
     "output_type": "execute_result"
    }
   ],
   "source": [
    "# Inspect Dataframe\n",
    "df.columns\n",
    "df.dtypes\n",
    "df.shape\n",
    "df.isnull().sum()"
   ]
  },
  {
   "cell_type": "code",
   "execution_count": 27,
   "metadata": {},
   "outputs": [],
   "source": [
    "df[\"Course Package\"] = df[\"Course Package\"].apply(lambda x: x.split('_', 1)[1] if '_' in str(x) else x)\n",
    "df[\"Course Package\"] = df[\"Course Package\"].apply(lambda x: x.split('_Pack')[0] if '_Package' in str(x) else x)\n",
    "df[\"Course Package\"] = df[\"Course Package\"].apply(lambda x: x.split('_', 1)[1] if '_' in str(x) else x)\n",
    "df[\"Lead Source\"] = df[\"Lead Source\"].apply(lambda x: x.split('_')[1] if '_' in str(x) else x)"
   ]
  },
  {
   "cell_type": "code",
   "execution_count": 28,
   "metadata": {},
   "outputs": [],
   "source": [
    "date_columns = ['Inquiry Date','Start Date','Expected End Date']\n",
    "df[date_columns] = df[date_columns].apply(pd.to_datetime)"
   ]
  },
  {
   "cell_type": "code",
   "execution_count": 29,
   "metadata": {},
   "outputs": [],
   "source": [
    "df[\"Placement Information\"].isnull().sum()\n",
    "df['Placement Information'] = df['Placement Information'].apply(lambda x: 1 if x == 'Yes' else 0)"
   ]
  },
  {
   "cell_type": "code",
   "execution_count": 30,
   "metadata": {},
   "outputs": [],
   "source": [
    "df = df[~(df['Expected End Date'] >= pd.Timestamp(datetime.date(2023, 5, 30)))]"
   ]
  },
  {
   "cell_type": "code",
   "execution_count": 31,
   "metadata": {},
   "outputs": [],
   "source": [
    "end_2019 = pd.Timestamp(datetime.date(2019, 6, 30))\n",
    "end_2020 = pd.Timestamp(datetime.date(2020, 6, 30))\n",
    "end_2021 = pd.Timestamp(datetime.date(2021, 6, 30))\n",
    "end_2022 = pd.Timestamp(datetime.date(2022, 6, 30))\n",
    "end_2023 = pd.Timestamp(datetime.date(2023, 5, 30))"
   ]
  },
  {
   "cell_type": "code",
   "execution_count": 32,
   "metadata": {},
   "outputs": [],
   "source": [
    "def performance_year(date):\n",
    "    if date <= end_2019:\n",
    "        return '2018'\n",
    "    elif date <= end_2020:\n",
    "        return '2019'\n",
    "    elif date <= end_2021:\n",
    "        return '2020'\n",
    "    elif date <= end_2022:\n",
    "        return '2021'\n",
    "    elif date <= end_2023:\n",
    "        return '2022'\n",
    "    else:\n",
    "        return '2023'"
   ]
  },
  {
   "cell_type": "code",
   "execution_count": 33,
   "metadata": {},
   "outputs": [],
   "source": [
    "df['Performance Year'] = df['Start Date'].apply(performance_year)"
   ]
  },
  {
   "cell_type": "code",
   "execution_count": 35,
   "metadata": {},
   "outputs": [],
   "source": [
    "df.to_excel('Current Year Performance_1.xlsx', index=False)"
   ]
  },
  {
   "cell_type": "code",
   "execution_count": 34,
   "metadata": {},
   "outputs": [
    {
     "data": {
      "text/plain": [
       "0"
      ]
     },
     "execution_count": 34,
     "metadata": {},
     "output_type": "execute_result"
    }
   ],
   "source": [
    "#df[df['Expected End Date'] >= pd.Timestamp(datetime.date(2023, 5, 30))]\n",
    "len(df['Performance Year'][df['Expected End Date'] >= pd.Timestamp(datetime.date(2023, 5, 30))])"
   ]
  }
 ],
 "metadata": {
  "kernelspec": {
   "display_name": "base",
   "language": "python",
   "name": "python3"
  },
  "language_info": {
   "codemirror_mode": {
    "name": "ipython",
    "version": 3
   },
   "file_extension": ".py",
   "mimetype": "text/x-python",
   "name": "python",
   "nbconvert_exporter": "python",
   "pygments_lexer": "ipython3",
   "version": "3.9.13"
  },
  "orig_nbformat": 4
 },
 "nbformat": 4,
 "nbformat_minor": 2
}
